{
  "nbformat": 4,
  "nbformat_minor": 0,
  "metadata": {
    "colab": {
      "provenance": []
    },
    "kernelspec": {
      "name": "python3",
      "display_name": "Python 3"
    },
    "language_info": {
      "name": "python"
    }
  },
  "cells": [
    {
      "cell_type": "markdown",
      "source": [
        "**1. Write a Python program to find sum of elements in list?**"
      ],
      "metadata": {
        "id": "jpP2pBvK4QZN"
      }
    },
    {
      "cell_type": "code",
      "execution_count": null,
      "metadata": {
        "colab": {
          "base_uri": "https://localhost:8080/"
        },
        "id": "wlp6Qs-s4DNz",
        "outputId": "24a27934-580c-4770-eca4-3143686b18bb"
      },
      "outputs": [
        {
          "output_type": "stream",
          "name": "stdout",
          "text": [
            "sum of elements present in the list :  34\n"
          ]
        }
      ],
      "source": [
        "list1 = [2,3,4,5,6,7,7] \n",
        "sum = 0 \n",
        "for i in list1 :\n",
        "  sum = sum + i \n",
        "\n",
        "print( \"sum of elements present in the list : \" , sum )"
      ]
    },
    {
      "cell_type": "markdown",
      "source": [
        "\n",
        "\n",
        "---\n",
        "\n"
      ],
      "metadata": {
        "id": "nD4LmIsD40Wg"
      }
    },
    {
      "cell_type": "markdown",
      "source": [
        "**2. Write a Python program to Multiply all numbers in the list?**"
      ],
      "metadata": {
        "id": "VtmadZRE4185"
      }
    },
    {
      "cell_type": "code",
      "source": [
        "list1 = [2,3,4,5,6,7,7] \n",
        "mul = 1 \n",
        "for i in list1 :\n",
        "  mul = mul * i \n",
        "\n",
        "print(\"multiplication of the element present in the list : \" , mul )\n"
      ],
      "metadata": {
        "colab": {
          "base_uri": "https://localhost:8080/"
        },
        "id": "9mZIktI44bog",
        "outputId": "ce8f5d27-ac53-453c-a897-08cb2bf9a9fe"
      },
      "execution_count": null,
      "outputs": [
        {
          "output_type": "stream",
          "name": "stdout",
          "text": [
            "multiplication of the element present in the list :  35280\n"
          ]
        }
      ]
    },
    {
      "cell_type": "markdown",
      "source": [
        "\n",
        "\n",
        "---\n",
        "\n"
      ],
      "metadata": {
        "id": "pDKRMzuu5dwC"
      }
    },
    {
      "cell_type": "markdown",
      "source": [
        "**3. Write a Python program to find smallest number in a list?**"
      ],
      "metadata": {
        "id": "jsMSpa1w5fAD"
      }
    },
    {
      "cell_type": "code",
      "source": [
        "list1 = [0,1,2,3,4,5,6,7,7] \n",
        "small_no = list1[0]\n",
        "\n",
        "for i in list1 :\n",
        "  if i < small_no  :\n",
        "    small_no = i \n",
        "\n",
        "print(\"smallest no in the list :\" , small_no)"
      ],
      "metadata": {
        "colab": {
          "base_uri": "https://localhost:8080/"
        },
        "id": "UJwbe2zh5WRS",
        "outputId": "76708383-7eec-4b8f-a6aa-ff21a821a140"
      },
      "execution_count": null,
      "outputs": [
        {
          "output_type": "stream",
          "name": "stdout",
          "text": [
            "smallest no in the list : 0\n"
          ]
        }
      ]
    },
    {
      "cell_type": "markdown",
      "source": [
        "\n",
        "\n",
        "---\n",
        "\n"
      ],
      "metadata": {
        "id": "37zLM8ps6hIM"
      }
    },
    {
      "cell_type": "markdown",
      "source": [
        "**4. Write a Python program to find largest number in a list?**"
      ],
      "metadata": {
        "id": "NS_2tQs_6l0r"
      }
    },
    {
      "cell_type": "code",
      "source": [
        "list1 = [0,1,2,3,4,5,6,7,7,5,3434,76767,233234342] \n",
        "largest_no = list1[0]\n",
        "\n",
        "for i in list1 :\n",
        "  if i > largest_no  :\n",
        "    largest_no = i \n",
        "\n",
        "print(\"largest_no in the list :\" , largest_no)"
      ],
      "metadata": {
        "colab": {
          "base_uri": "https://localhost:8080/"
        },
        "id": "BzoQcmXh54jK",
        "outputId": "287ed691-6e57-4b86-e6be-67892cde2b57"
      },
      "execution_count": null,
      "outputs": [
        {
          "output_type": "stream",
          "name": "stdout",
          "text": [
            "largest_no in the list : 233234342\n"
          ]
        }
      ]
    },
    {
      "cell_type": "markdown",
      "source": [
        "\n",
        "\n",
        "---\n",
        "\n"
      ],
      "metadata": {
        "id": "9fiSpm5C65gf"
      }
    },
    {
      "cell_type": "markdown",
      "source": [
        "**5. Write a Python program to find second largest number in a list?**"
      ],
      "metadata": {
        "id": "ZjFZQwVt6-3H"
      }
    },
    {
      "cell_type": "code",
      "source": [
        "list1 = [0,1,2,3,4,5,6,7,7,5,3434,76767,454455,34344,323232323,45546565464,233234342] \n",
        "a = list()\n",
        "largest_no = list1[0]\n",
        "\n",
        "for i in list1 :\n",
        "    if i > largest_no  :\n",
        "        largest_no = i \n",
        "        a.append(largest_no)\n",
        "print(f\"Second largest no in the list\" , a[-2])\n",
        "        "
      ],
      "metadata": {
        "colab": {
          "base_uri": "https://localhost:8080/"
        },
        "id": "46OSomYF6rSI",
        "outputId": "3b0bb6a3-a8ad-48cc-b864-1c189688b06e"
      },
      "execution_count": null,
      "outputs": [
        {
          "output_type": "stream",
          "name": "stdout",
          "text": [
            "Second largest no in the list 323232323\n"
          ]
        }
      ]
    },
    {
      "cell_type": "markdown",
      "source": [
        "\n",
        "\n",
        "---\n",
        "\n"
      ],
      "metadata": {
        "id": "wAiWS1S8a21d"
      }
    },
    {
      "cell_type": "markdown",
      "source": [
        "**6. Write a Python program to find N largest elements from a list?**"
      ],
      "metadata": {
        "id": "2386nuFfa4tI"
      }
    },
    {
      "cell_type": "code",
      "source": [
        "def Find_N_larg_ele(n , m ) :\n",
        "    m.sort()\n",
        "    m = m[::-1]\n",
        "    for i in range(n):\n",
        "        print( i+1 , \": largest no_is\", m[i])\n",
        "    "
      ],
      "metadata": {
        "id": "fOkhiwW38cMo"
      },
      "execution_count": null,
      "outputs": []
    },
    {
      "cell_type": "code",
      "source": [
        "Find_N_larg_ele( 6 , [0,1,2,3,4,5,6,7,7,5,3434,76767,454455,34344] )"
      ],
      "metadata": {
        "colab": {
          "base_uri": "https://localhost:8080/"
        },
        "id": "LW4rDpxvqFLL",
        "outputId": "5addd243-01a2-46a0-cb54-eb88524b0ed1"
      },
      "execution_count": null,
      "outputs": [
        {
          "output_type": "stream",
          "name": "stdout",
          "text": [
            "1 : largest no_is 454455\n",
            "2 : largest no_is 76767\n",
            "3 : largest no_is 34344\n",
            "4 : largest no_is 3434\n",
            "5 : largest no_is 7\n",
            "6 : largest no_is 7\n"
          ]
        }
      ]
    },
    {
      "cell_type": "markdown",
      "source": [
        "\n",
        "\n",
        "---\n",
        "\n"
      ],
      "metadata": {
        "id": "dnY5JqZYrPko"
      }
    },
    {
      "cell_type": "markdown",
      "source": [
        "**7. Write a Python program to print even numbers in a list?**"
      ],
      "metadata": {
        "id": "cMOaqGUDrQrE"
      }
    },
    {
      "cell_type": "code",
      "source": [
        "def Find_even_no(n) :\n",
        "    for i in n :\n",
        "        if i % 2 == 0 :\n",
        "            print(i)\n"
      ],
      "metadata": {
        "id": "tcR2oIZdqMz5"
      },
      "execution_count": null,
      "outputs": []
    },
    {
      "cell_type": "code",
      "source": [
        "Find_even_no([0,1,2,3,4,5,6,7,7,5,3434,76767,454455,34344])"
      ],
      "metadata": {
        "colab": {
          "base_uri": "https://localhost:8080/"
        },
        "id": "ZPspfkOXrYrp",
        "outputId": "45db2fbe-323e-4f9e-c21a-65bc04cb21c6"
      },
      "execution_count": null,
      "outputs": [
        {
          "output_type": "stream",
          "name": "stdout",
          "text": [
            "0\n",
            "2\n",
            "4\n",
            "6\n",
            "3434\n",
            "34344\n"
          ]
        }
      ]
    },
    {
      "cell_type": "markdown",
      "source": [
        "\n",
        "\n",
        "---\n",
        "\n"
      ],
      "metadata": {
        "id": "4Whoerr6rkFJ"
      }
    },
    {
      "cell_type": "markdown",
      "source": [
        "**8. Write a Python program to print odd numbers in a List?**"
      ],
      "metadata": {
        "id": "jXiL_pTYrllX"
      }
    },
    {
      "cell_type": "code",
      "source": [
        "def Find_odd_no(n) :\n",
        "    for i in n :\n",
        "        if i % 2 == 1 :\n",
        "            print(i)\n"
      ],
      "metadata": {
        "id": "8MXfxE85reqZ"
      },
      "execution_count": null,
      "outputs": []
    },
    {
      "cell_type": "code",
      "source": [
        "Find_odd_no([0,1,2,3,4,5,6,7,7,5,3434,76767,454455,34344])"
      ],
      "metadata": {
        "colab": {
          "base_uri": "https://localhost:8080/"
        },
        "id": "wDrHxUDxrs04",
        "outputId": "6a4e495c-27a2-47e4-b79f-f8c0ce0f2d4e"
      },
      "execution_count": null,
      "outputs": [
        {
          "output_type": "stream",
          "name": "stdout",
          "text": [
            "1\n",
            "3\n",
            "5\n",
            "7\n",
            "7\n",
            "5\n",
            "76767\n",
            "454455\n"
          ]
        }
      ]
    },
    {
      "cell_type": "markdown",
      "source": [
        "\n",
        "\n",
        "---\n",
        "\n"
      ],
      "metadata": {
        "id": "52bxbLZ8r9z3"
      }
    },
    {
      "cell_type": "markdown",
      "source": [
        "**9. Write a Python program to Remove empty List from List?**"
      ],
      "metadata": {
        "id": "CsRar6GmBggz"
      }
    },
    {
      "cell_type": "code",
      "source": [
        "my_list = [1, 2, [], 'mahendra' , 3, [], 4, [], 5, []]\n",
        "new_list = []\n",
        "for x in my_list:\n",
        "    if x != []:\n",
        "        new_list.append(x)\n",
        "print(new_list)\n"
      ],
      "metadata": {
        "id": "35eXNxDBr7Ei",
        "colab": {
          "base_uri": "https://localhost:8080/"
        },
        "outputId": "e8828463-f113-465e-c3e9-44b19f4157af"
      },
      "execution_count": 2,
      "outputs": [
        {
          "output_type": "stream",
          "name": "stdout",
          "text": [
            "[1, 2, 'mahendra', 3, 4, 5]\n"
          ]
        }
      ]
    },
    {
      "cell_type": "markdown",
      "source": [
        "\n",
        "\n",
        "---\n",
        "\n"
      ],
      "metadata": {
        "id": "WLMasmcPK6mX"
      }
    },
    {
      "cell_type": "markdown",
      "source": [
        "**10. Write a Python program to Cloning or Copying a list?**"
      ],
      "metadata": {
        "id": "4NTjVzX1K3qr"
      }
    },
    {
      "cell_type": "code",
      "source": [
        "def copy_list(n) :\n",
        "  new_list = [] \n",
        "  new_list2 = n \n",
        "  return new_list2"
      ],
      "metadata": {
        "id": "FkiwQC3FGvAN"
      },
      "execution_count": 10,
      "outputs": []
    },
    {
      "cell_type": "code",
      "source": [
        "copy_list([\"mahendra\" , 90 , 787])"
      ],
      "metadata": {
        "colab": {
          "base_uri": "https://localhost:8080/"
        },
        "id": "KHR4x_quLSiB",
        "outputId": "5b83f65d-38b8-4f4b-a050-4fb2f8ff54b1"
      },
      "execution_count": 11,
      "outputs": [
        {
          "output_type": "execute_result",
          "data": {
            "text/plain": [
              "['mahendra', 90, 787]"
            ]
          },
          "metadata": {},
          "execution_count": 11
        }
      ]
    },
    {
      "cell_type": "markdown",
      "source": [
        "\n",
        "\n",
        "---\n",
        "\n"
      ],
      "metadata": {
        "id": "X9O1MlNzL37s"
      }
    },
    {
      "cell_type": "markdown",
      "source": [
        "**11. Write a Python program to Count occurrences of an element in a list?**"
      ],
      "metadata": {
        "id": "irhrIWIPL5RD"
      }
    },
    {
      "cell_type": "code",
      "source": [
        "num = int(input(\"Enter the number \") )\n",
        "n = [2,2,2,3,4,5,65,6,7,78] \n",
        "Accurences_of_elements = []\n",
        "count = 0 \n",
        "for i in n :\n",
        "    if i == num :\n",
        "        count = count + 1\n",
        "    elif count == 0 :\n",
        "      print(\"please enter the valid number \")\n",
        "      break \n",
        "      \n",
        "print(\"Accurence of \", num , \"is\" , count)\n"
      ],
      "metadata": {
        "colab": {
          "base_uri": "https://localhost:8080/"
        },
        "id": "YEgxKz1RLuhj",
        "outputId": "d5d544d4-4d88-4980-e2c2-ede7cb769c4d"
      },
      "execution_count": 27,
      "outputs": [
        {
          "output_type": "stream",
          "name": "stdout",
          "text": [
            "Enter the number 343434\n",
            "please enter the valid number \n",
            "Accurence of  343434 is 0\n"
          ]
        }
      ]
    },
    {
      "cell_type": "code",
      "source": [
        "num = int(input(\"Enter the number \") )\n",
        "n = [2,2,2,3,4,5,65,6,7,78] \n",
        "Accurences_of_elements = []\n",
        "count = 0 \n",
        "for i in n :\n",
        "    if i == num :\n",
        "        count = count + 1\n",
        "    elif count == 0 :\n",
        "      print(\"please enter the valid number \")\n",
        "      break \n",
        "      \n",
        "print(\"Accurence of \", num , \"is\" , count)"
      ],
      "metadata": {
        "colab": {
          "base_uri": "https://localhost:8080/"
        },
        "id": "4wV47xVRQfED",
        "outputId": "906ff151-9993-4df2-bf1b-76151aff1ae0"
      },
      "execution_count": 28,
      "outputs": [
        {
          "output_type": "stream",
          "name": "stdout",
          "text": [
            "Enter the number 2\n",
            "Accurence of  2 is 3\n"
          ]
        }
      ]
    },
    {
      "cell_type": "markdown",
      "source": [
        "\n",
        "\n",
        "---\n",
        "\n"
      ],
      "metadata": {
        "id": "ht2snqRlRgW7"
      }
    },
    {
      "cell_type": "code",
      "source": [],
      "metadata": {
        "id": "lJPjDFpbRdA3"
      },
      "execution_count": null,
      "outputs": []
    }
  ]
}